{
 "cells": [
  {
   "cell_type": "code",
   "execution_count": 2,
   "id": "4c1fc81f",
   "metadata": {},
   "outputs": [
    {
     "name": "stdout",
     "output_type": "stream",
     "text": [
      "h\n",
      "e\n",
      "l\n",
      "l\n",
      "o\n",
      ",\n",
      " \n",
      "w\n",
      "o\n",
      "r\n",
      "l\n",
      "d\n"
     ]
    }
   ],
   "source": [
    "for letter in \"hello, world\":\n",
    "    print(letter)"
   ]
  },
  {
   "cell_type": "markdown",
   "id": "144cb909",
   "metadata": {},
   "source": [
    "# Problem 1\n",
    "\n",
    "### Given two strings (string_a and string_b) create a function that checks whether or not they are anagrams of each other, considering:\n",
    "\n",
    "two strings are anagrams if:\n",
    "\n",
    "same length \n",
    "same exact amount of characters"
   ]
  },
  {
   "cell_type": "code",
   "execution_count": 29,
   "id": "27df1209",
   "metadata": {},
   "outputs": [
    {
     "ename": "SyntaxError",
     "evalue": "invalid syntax (3927269534.py, line 10)",
     "output_type": "error",
     "traceback": [
      "\u001b[0;36m  Cell \u001b[0;32mIn[29], line 10\u001b[0;36m\u001b[0m\n\u001b[0;31m    def anagram_sol(string_a.lower(), string_b.lower()):\u001b[0m\n\u001b[0m                            ^\u001b[0m\n\u001b[0;31mSyntaxError\u001b[0m\u001b[0;31m:\u001b[0m invalid syntax\n"
     ]
    }
   ],
   "source": [
    "# avoid taking shortcuts like this:\n",
    "# def anagram_sol(string_a, String_b:\n",
    "#     return sorted(string_a) == sorted(string_b)\n",
    "def get_str_len(mystr):\n",
    "    counter = 0\n",
    "    for i in range (len(mystr)):\n",
    "        counter+= 1\n",
    "    return counter\n",
    "\n",
    "def anagram_sol(string_a, string_b):\n",
    "    if len(string_a) != len(string_b): # covering the length case.\n",
    "        return False                   # If our strings are of unequal length then 0(1)=constant\n",
    "    char_times_a = dict()              # These dictionaries will track which we've seen\n",
    "    char_times_b = dict()              # each key is every character, and values are times seen\n",
    "    for i in range (len(string_a)):    # loop from 0 to length of string a\n",
    "        if string_a[i] not in char_times_a.keys(): #every time we loop, we check if char at index i\n",
    "            char_times_a[string_a[i]] = 1          #within string_a is a key in our dict\n",
    "        else:                                      #if it isn't,create new dict entry and give it\n",
    "            char_times_a[string_a[i]] += 1         #value of 1 bec. we've seen it once.\n",
    "        if string_b[i] not in char_times_b.keys(): #if it is , add 1 to whatever current val is\n",
    "            char_times_b[string_b[i]] = 1  \n",
    "            char_times_a[string_a[i]] = 1 \n",
    "        else:\n",
    "            char_times_b[string_b[i]] += 1       #return the comparison between char_times_a \n",
    "#         string_a = string_a.lower()\n",
    "#         string_b = string_b.lower()\n",
    "    return char_times_a == char_times_b      #return True if equal false otherwise\n"
   ]
  },
  {
   "cell_type": "code",
   "execution_count": 28,
   "id": "93dc0b6c",
   "metadata": {
    "scrolled": true
   },
   "outputs": [
    {
     "ename": "AttributeError",
     "evalue": "'dict' object has no attribute 'lower'",
     "output_type": "error",
     "traceback": [
      "\u001b[0;31m---------------------------------------------------------------------------\u001b[0m",
      "\u001b[0;31mAttributeError\u001b[0m                            Traceback (most recent call last)",
      "Cell \u001b[0;32mIn[28], line 1\u001b[0m\n\u001b[0;32m----> 1\u001b[0m \u001b[43managram_sol\u001b[49m\u001b[43m(\u001b[49m\u001b[38;5;124;43m\"\u001b[39;49m\u001b[38;5;124;43mCars\u001b[39;49m\u001b[38;5;124;43m\"\u001b[39;49m\u001b[43m,\u001b[49m\u001b[43m \u001b[49m\u001b[38;5;124;43m\"\u001b[39;49m\u001b[38;5;124;43mscar\u001b[39;49m\u001b[38;5;124;43m\"\u001b[39;49m\u001b[43m)\u001b[49m\n",
      "Cell \u001b[0;32mIn[27], line 27\u001b[0m, in \u001b[0;36managram_sol\u001b[0;34m(string_a, string_b)\u001b[0m\n\u001b[1;32m     24\u001b[0m             char_times_b[string_b[i]] \u001b[38;5;241m+\u001b[39m\u001b[38;5;241m=\u001b[39m \u001b[38;5;241m1\u001b[39m       \u001b[38;5;66;03m#return the comparison between char_times_a \u001b[39;00m\n\u001b[1;32m     25\u001b[0m \u001b[38;5;66;03m#         string_a = string_a.lower()\u001b[39;00m\n\u001b[1;32m     26\u001b[0m \u001b[38;5;66;03m#         string_b = string_b.lower()\u001b[39;00m\n\u001b[0;32m---> 27\u001b[0m     \u001b[38;5;28;01mreturn\u001b[39;00m \u001b[43mchar_times_a\u001b[49m\u001b[38;5;241;43m.\u001b[39;49m\u001b[43mlower\u001b[49m() \u001b[38;5;241m==\u001b[39m char_times_b\u001b[38;5;241m.\u001b[39mlower()\n",
      "\u001b[0;31mAttributeError\u001b[0m: 'dict' object has no attribute 'lower'"
     ]
    }
   ],
   "source": [
    "anagram_sol(\"Cars\", \"scar\")"
   ]
  },
  {
   "cell_type": "markdown",
   "id": "2aa56c44",
   "metadata": {},
   "source": [
    "#Homework:\n",
    "### the function above(anagram_sol) must be edited such that:\n",
    "\n",
    "Tom Marvolo  Riddle\n",
    "I am Lord Voldmeort  \n",
    "returns true"
   ]
  },
  {
   "cell_type": "code",
   "execution_count": 19,
   "id": "842910e4",
   "metadata": {},
   "outputs": [
    {
     "data": {
      "text/plain": [
       "False"
      ]
     },
     "execution_count": 19,
     "metadata": {},
     "output_type": "execute_result"
    }
   ],
   "source": [
    "anagram_sol(\"tommarvoloriddle\", \"iamlordvoldemort\")\n"
   ]
  },
  {
   "cell_type": "code",
   "execution_count": null,
   "id": "cbae7035",
   "metadata": {},
   "outputs": [],
   "source": []
  },
  {
   "cell_type": "code",
   "execution_count": null,
   "id": "0a1b212e",
   "metadata": {},
   "outputs": [],
   "source": []
  }
 ],
 "metadata": {
  "kernelspec": {
   "display_name": "Python 3 (ipykernel)",
   "language": "python",
   "name": "python3"
  },
  "language_info": {
   "codemirror_mode": {
    "name": "ipython",
    "version": 3
   },
   "file_extension": ".py",
   "mimetype": "text/x-python",
   "name": "python",
   "nbconvert_exporter": "python",
   "pygments_lexer": "ipython3",
   "version": "3.8.10"
  }
 },
 "nbformat": 4,
 "nbformat_minor": 5
}
