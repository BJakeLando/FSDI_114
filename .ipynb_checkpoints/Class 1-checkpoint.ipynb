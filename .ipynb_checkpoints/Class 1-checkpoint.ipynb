{
 "cells": [
  {
   "cell_type": "code",
   "execution_count": 2,
   "id": "4c1fc81f",
   "metadata": {},
   "outputs": [
    {
     "name": "stdout",
     "output_type": "stream",
     "text": [
      "h\n",
      "e\n",
      "l\n",
      "l\n",
      "o\n",
      ",\n",
      " \n",
      "w\n",
      "o\n",
      "r\n",
      "l\n",
      "d\n"
     ]
    }
   ],
   "source": [
    "for letter in \"hello, world\":\n",
    "    print(letter)"
   ]
  },
  {
   "cell_type": "markdown",
   "id": "144cb909",
   "metadata": {},
   "source": [
    "# Problem 1\n",
    "\n",
    "### Given two strings (string_a and string_b) create a function that checks whether or not they are anagrams of each other, considering:\n",
    "\n",
    "two strings are anagrams if:\n",
    "\n",
    "same length \n",
    "same exact amount of characters"
   ]
  },
  {
   "cell_type": "code",
   "execution_count": 28,
   "id": "27df1209",
   "metadata": {},
   "outputs": [],
   "source": [
    "# avoid taking shortcuts like this:\n",
    "# def anagram_sol(string_a, String_b:\n",
    "#     return sorted(string_a) == sorted(string_b)\n",
    "def get_str_len(mystr):\n",
    "    counter = 0\n",
    "    for i in range (len(mystr)):\n",
    "        counter+= 1\n",
    "    return counter\n",
    "\n",
    "def anagram_sol(string_a, string_b):\n",
    "    string_a = string_a.lower()\n",
    "    string_b = string_b.lower()\n",
    "    \n",
    "    no_space_a = string_a.replace(' ', '')\n",
    "    print(f'no_space_a')\n",
    "    no_space_b = string_b.replace(' ', '')\n",
    "    print(f'no_space_b')\n",
    "\n",
    "    if len(string_a) != len(string_b): # covering the length case.\n",
    "        return False                   # If our strings are of unequal length then 0(1)=constant\n",
    "    char_times_a = dict()              # These dictionaries will track which we've seen\n",
    "    char_times_b = dict()              # each key is every character, and values are times seen\n",
    "    for i in range (len(string_a)):    # loop from 0 to length of string a\n",
    "        if string_a[i] not in char_times_a.keys(): #every time we loop, we check if char at index i\n",
    "            char_times_a[string_a[i]] = 1          #within string_a is a key in our dict\n",
    "        else:                                      #if it isn't,create new dict entry and give it\n",
    "            char_times_a[string_a[i]] += 1         #value of 1 bec. we've seen it once.\n",
    "        if string_b[i] not in char_times_b.keys(): #if it is , add 1 to whatever current val is\n",
    "            char_times_b[string_b[i]] = 1  \n",
    "            char_times_a[string_a[i]] = 1 \n",
    "        else:\n",
    "            char_times_b[string_b[i]] += 1       #return the comparison between char_times_a \n",
    "    return char_times_a == char_times_b      #return True if equal false otherwise\n"
   ]
  },
  {
   "cell_type": "code",
   "execution_count": 30,
   "id": "93dc0b6c",
   "metadata": {
    "scrolled": true
   },
   "outputs": [
    {
     "data": {
      "text/plain": [
       "False"
      ]
     },
     "execution_count": 30,
     "metadata": {},
     "output_type": "execute_result"
    }
   ],
   "source": [
    "anagram_sol(\"cars car\", \"SC AR CAR\")"
   ]
  },
  {
   "cell_type": "markdown",
   "id": "2aa56c44",
   "metadata": {},
   "source": [
    "#Homework:\n",
    "### the function above(anagram_sol) must be edited such that:\n",
    "\n",
    "Tom Marvolo  Riddle\n",
    "I am Lord Voldmeort  \n",
    "returns true"
   ]
  },
  {
   "cell_type": "code",
   "execution_count": 11,
   "id": "842910e4",
   "metadata": {},
   "outputs": [
    {
     "data": {
      "text/plain": [
       "False"
      ]
     },
     "execution_count": 11,
     "metadata": {},
     "output_type": "execute_result"
    }
   ],
   "source": [
    "anagram_sol(\"TomMarvoloRiddle\", \"iamlordvoldemort\")\n"
   ]
  },
  {
   "cell_type": "code",
   "execution_count": null,
   "id": "11bea682",
   "metadata": {},
   "outputs": [],
   "source": []
  },
  {
   "cell_type": "code",
   "execution_count": null,
   "id": "9b595088",
   "metadata": {},
   "outputs": [],
   "source": []
  }
 ],
 "metadata": {
  "kernelspec": {
   "display_name": "Python 3 (ipykernel)",
   "language": "python",
   "name": "python3"
  },
  "language_info": {
   "codemirror_mode": {
    "name": "ipython",
    "version": 3
   },
   "file_extension": ".py",
   "mimetype": "text/x-python",
   "name": "python",
   "nbconvert_exporter": "python",
   "pygments_lexer": "ipython3",
   "version": "3.8.10"
  }
 },
 "nbformat": 4,
 "nbformat_minor": 5
}
