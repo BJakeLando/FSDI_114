{
 "cells": [
  {
   "cell_type": "code",
   "execution_count": 27,
   "id": "6c424d0b",
   "metadata": {},
   "outputs": [],
   "source": [
    "class Node:\n",
    "    def __init__(self, data):\n",
    "        self.data = data\n",
    "        self.next = None\n",
    "        \n",
    "class SinglyLinkedList:\n",
    "    def __init__(self):\n",
    "        self.head = None\n",
    "        \n",
    "    def append(self, element):\n",
    "        node = Node (element)\n",
    "        if not self.head:  # if self.head == None\n",
    "            self.head = node\n",
    "        else: \n",
    "            current = self.head\n",
    "            while current.next:\n",
    "                current = current.next\n",
    "            current.next = node\n",
    "            \n",
    "    def insert(self, index, value):\n",
    "        node = Node(value)\n",
    "        if not self.head:\n",
    "            self.head = node\n",
    "        else:\n",
    "            if index == 0:\n",
    "                node.next = self.head\n",
    "                self.head = node\n",
    "            else:\n",
    "                current = self.head\n",
    "                prev = None\n",
    "                counter = 0\n",
    "                while current.next and counter != index:\n",
    "                    prev = current\n",
    "                    current = current.next\n",
    "                    counter += 1 \n",
    "                if counter == index:\n",
    "                    prev.next = node\n",
    "                    node.next = current\n",
    "                \n",
    "            \n",
    "            \n",
    "    def __str__(self):\n",
    "#         return \"My list's curent head node: %s\" % self.head.data \n",
    "        out_str ='['\n",
    "        if self.head:\n",
    "            out_str += \"%s\" % self.head.data\n",
    "            current = self.head.next \n",
    "            while current:\n",
    "                out_str += \", %s\" % current.data\n",
    "                current = current.next\n",
    "            out_str +=']'\n",
    "            return out_str\n",
    "                "
   ]
  },
  {
   "cell_type": "code",
   "execution_count": 35,
   "id": "a3c7e499",
   "metadata": {},
   "outputs": [
    {
     "name": "stdout",
     "output_type": "stream",
     "text": [
      "[1, 2, 3, 4, 5]\n"
     ]
    }
   ],
   "source": [
    "python_list = [ 1, 2, 3, 4 ,5]\n",
    "print(python_list)\n",
    "\n",
    "# case 1: Insert before head\n",
    "python_list.insert(0,0)\n",
    "\n",
    "python_list = []\n",
    "# case 2: Insert \n",
    "python_list.insert(0,1)\n",
    "\n",
    "python_list =[]\n",
    "# case 3: insert on an empty list but with an index that isn't reachable\n",
    "python_list.insert(1000,5) \n",
    "\n",
    "# case 4: Insert on a list with N elements but with an index that isn't reachable:\n",
    "python_list.insert(1000,6)\n",
    "\n",
    "# case 5: Insert anywhere in the middle of a list\n",
    "python_list = [1,2,4,5]\n",
    "python_list.insert(2,3)"
   ]
  },
  {
   "cell_type": "code",
   "execution_count": 36,
   "id": "af625a61",
   "metadata": {},
   "outputs": [
    {
     "name": "stdout",
     "output_type": "stream",
     "text": [
      "our list:\n",
      "[1, 2, 3, 4, 5]\n"
     ]
    }
   ],
   "source": [
    "print (\"our list:\")\n",
    "sll = SinglyLinkedList()\n",
    "for number in range(1, 6):\n",
    "    sll.append(number)\n",
    "    \n",
    "print(sll)"
   ]
  },
  {
   "cell_type": "markdown",
   "id": "636f4158",
   "metadata": {},
   "source": [
    "# Problem 4\n",
    "### Implement the "
   ]
  },
  {
   "cell_type": "markdown",
   "id": "802def30",
   "metadata": {},
   "source": [
    "### Implement the \"insert\" method in our SLL class\n",
    "\n",
    "At a minimum the insert method should cover 5 use cases we've discussed:"
   ]
  },
  {
   "cell_type": "markdown",
   "id": "2c65c742",
   "metadata": {},
   "source": [
    "1. insert before the head\n",
    "2. insert on an empty list\n",
    "3. insert on an empty list but with an unreachable index\n",
    "4. insert on a list with N elements but with an unreachable index\n",
    "5. Insert anywhere in the middle of a list (anywhere between the head and the tail)\n",
    "\n",
    "\n",
    "\n"
   ]
  },
  {
   "cell_type": "markdown",
   "id": "9eb27b14",
   "metadata": {},
   "source": [
    "# Brainstorm\n",
    "\n",
    "1. Change SinglyLinkedList tp SLL\n",
    "2. insert a list before the head at ( 0,0)\n",
    "3. use the insert method on an empty list\n",
    "4. do 2 inset methods on unreachable index's \n",
    "5. insert method in the middle. \n",
    "\n",
    "# Psudeocode\n",
    "\n",
    "for number in range(1.5)\n",
    "sll.list.insert(0,0) \n",
    "print(sll)\n"
   ]
  },
  {
   "cell_type": "code",
   "execution_count": 44,
   "id": "20318851",
   "metadata": {},
   "outputs": [],
   "source": []
  },
  {
   "cell_type": "code",
   "execution_count": 45,
   "id": "3e64d264",
   "metadata": {},
   "outputs": [
    {
     "name": "stdout",
     "output_type": "stream",
     "text": [
      "[1, 2, 3, 4, 5]\n"
     ]
    }
   ],
   "source": [
    "print(sll)"
   ]
  },
  {
   "cell_type": "code",
   "execution_count": null,
   "id": "da8b500d",
   "metadata": {},
   "outputs": [],
   "source": []
  },
  {
   "cell_type": "code",
   "execution_count": null,
   "id": "054c7d5b",
   "metadata": {},
   "outputs": [],
   "source": []
  }
 ],
 "metadata": {
  "kernelspec": {
   "display_name": "Python 3 (ipykernel)",
   "language": "python",
   "name": "python3"
  },
  "language_info": {
   "codemirror_mode": {
    "name": "ipython",
    "version": 3
   },
   "file_extension": ".py",
   "mimetype": "text/x-python",
   "name": "python",
   "nbconvert_exporter": "python",
   "pygments_lexer": "ipython3",
   "version": "3.8.10"
  }
 },
 "nbformat": 4,
 "nbformat_minor": 5
}
