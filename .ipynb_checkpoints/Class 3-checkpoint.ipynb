{
 "cells": [
  {
   "cell_type": "markdown",
   "id": "fdca4fc9",
   "metadata": {},
   "source": [
    "# Problem 2\n",
    "\n",
    "### Use a stack to invert a string.\n",
    "\n",
    "create a function called \"invert_st\" that takes a paramater(a string) and returns its inverted version. \n",
    "\n",
    "as a requirement the solution must use one of the tweo stack classes we implemented last class.\n",
    "\n",
    "'''\n",
    "examples:\n",
    "\n",
    "given \"rafael\" your function should return \"leafaR\"\n",
    "cars srac\n",
    "'''"
   ]
  },
  {
   "cell_type": "markdown",
   "id": "3b401d52",
   "metadata": {},
   "source": [
    "# BRAIN STORM\n",
    "\n",
    "## 1. Create Stack Class\n",
    "## 1. Create an empty stack \n",
    "## 2. Define invert_string function \n",
    "## 3. index string out in to a list of letters\n",
    "## 4. loop through \n",
    "## 5. Return the list in reverse order "
   ]
  },
  {
   "cell_type": "code",
   "execution_count": 2,
   "id": "6fc87956",
   "metadata": {},
   "outputs": [],
   "source": [
    "# create Stack class:\n",
    "#     define \"invert_string\" function\n",
    "#     create an empty stack variable and list\n",
    "#     create a loop to go through the letters\n",
    "#     return the result.\n",
    "    "
   ]
  },
  {
   "cell_type": "code",
   "execution_count": 5,
   "id": "47191602",
   "metadata": {},
   "outputs": [],
   "source": [
    "class Stack:\n",
    "    def __init__(self):\n",
    "        self.items = []\n",
    "        \n",
    "    def push(self, element):\n",
    "        self.items.append(element)\n",
    "        \n",
    "    def pop(self):\n",
    "        return self.items.pop()\n",
    "    \n",
    "    def __len__(self):\n",
    "        return len(self.items)\n",
    "    \n",
    "def invert_str(mystring):\n",
    "    stack = Stack()\n",
    "    for letter in mystring:\n",
    "        stack.push(letter)\n",
    "        out = ''\n",
    "    while len(stack) != 0:\n",
    "        out += stack.pop()\n",
    "    return out\n",
    "        "
   ]
  },
  {
   "cell_type": "code",
   "execution_count": 7,
   "id": "c1e03f43",
   "metadata": {},
   "outputs": [
    {
     "data": {
      "text/plain": [
       "'odnal'"
      ]
     },
     "execution_count": 7,
     "metadata": {},
     "output_type": "execute_result"
    }
   ],
   "source": [
    "invert_str(\"lando\")"
   ]
  },
  {
   "cell_type": "code",
   "execution_count": 9,
   "id": "9b9c8fad",
   "metadata": {},
   "outputs": [
    {
     "ename": "AssertionError",
     "evalue": "",
     "output_type": "error",
     "traceback": [
      "\u001b[0;31m---------------------------------------------------------------------------\u001b[0m",
      "\u001b[0;31mAssertionError\u001b[0m                            Traceback (most recent call last)",
      "Cell \u001b[0;32mIn[9], line 12\u001b[0m\n\u001b[1;32m      9\u001b[0m         \u001b[38;5;28;01massert\u001b[39;00m invert_str(pair[\u001b[38;5;241m0\u001b[39m]) \u001b[38;5;241m==\u001b[39m pair[\u001b[38;5;241m1\u001b[39m]\n\u001b[1;32m     10\u001b[0m     \u001b[38;5;28mprint\u001b[39m(\u001b[38;5;124m\"\u001b[39m\u001b[38;5;124mTOK\u001b[39m\u001b[38;5;124m\"\u001b[39m)\n\u001b[0;32m---> 12\u001b[0m \u001b[43mtest_invert_str\u001b[49m\u001b[43m(\u001b[49m\u001b[43mpairs\u001b[49m\u001b[43m)\u001b[49m\n",
      "Cell \u001b[0;32mIn[9], line 9\u001b[0m, in \u001b[0;36mtest_invert_str\u001b[0;34m(pairs)\u001b[0m\n\u001b[1;32m      7\u001b[0m \u001b[38;5;28;01mdef\u001b[39;00m \u001b[38;5;21mtest_invert_str\u001b[39m(pairs):\n\u001b[1;32m      8\u001b[0m     \u001b[38;5;28;01mfor\u001b[39;00m pair \u001b[38;5;129;01min\u001b[39;00m pairs:\n\u001b[0;32m----> 9\u001b[0m         \u001b[38;5;28;01massert\u001b[39;00m invert_str(pair[\u001b[38;5;241m0\u001b[39m]) \u001b[38;5;241m==\u001b[39m pair[\u001b[38;5;241m1\u001b[39m]\n\u001b[1;32m     10\u001b[0m     \u001b[38;5;28mprint\u001b[39m(\u001b[38;5;124m\"\u001b[39m\u001b[38;5;124mTOK\u001b[39m\u001b[38;5;124m\"\u001b[39m)\n",
      "\u001b[0;31mAssertionError\u001b[0m: "
     ]
    }
   ],
   "source": [
    "pairs = [\n",
    "    (\"rafael\", \"leafaR\"),\n",
    "    (\"cars\", \"srac\"),\n",
    "    (\"rats\", \"star\"),\n",
    "]\n",
    "\n",
    "def test_invert_str(pairs):\n",
    "    for pair in pairs:\n",
    "        assert invert_str(pair[0]) == pair[1]\n",
    "    print(\"TOK\")\n",
    "        \n",
    "test_invert_str(pairs)"
   ]
  },
  {
   "cell_type": "markdown",
   "id": "d9d50874",
   "metadata": {},
   "source": [
    "class Node:\n",
    "    def __init__ (self, data):\n",
    "        self.data = data\n",
    "        self.behind = None\n",
    "        \n",
    "class Queue:\n",
    "    def __init__(self):\n",
    "        self.front = None\n",
    "        \n",
    "    def enqueue(self, element):\n",
    "        if not self.front:\n",
    "            self.front = Node(element)\n",
    "        else: \n",
    "            current = self.front\n",
    "            while current.behind:\n",
    "                current = current.behind\n",
    "            current.behind = Node(element)\n",
    "    \n",
    "    def dequeue(self):\n",
    "        if self.front:\n",
    "            data = self.front.data\n",
    "            self.front = self.front.behind\n",
    "            return data\n",
    "        raise IndexError(\"Queue Empty\")\n",
    "    "
   ]
  },
  {
   "cell_type": "markdown",
   "id": "0c3b0f4e",
   "metadata": {},
   "source": [
    "# Recursive Functions\n"
   ]
  },
  {
   "cell_type": "code",
   "execution_count": 16,
   "id": "d48faec6",
   "metadata": {},
   "outputs": [
    {
     "data": {
      "text/plain": [
       "3628800"
      ]
     },
     "execution_count": 16,
     "metadata": {},
     "output_type": "execute_result"
    }
   ],
   "source": [
    "def factorial(n):\n",
    "    if n == 0: \n",
    "        return 1\n",
    "    return n*factorial(n-1)\n",
    "\n",
    "factorial(10)"
   ]
  },
  {
   "cell_type": "code",
   "execution_count": 21,
   "id": "d68d6e14",
   "metadata": {},
   "outputs": [],
   "source": [
    "#  Recursive Fibonacci\n",
    "from functools import lru_cache\n",
    "\n",
    "@lru_cache\n",
    "def fib(n):\n",
    "    if n < 2:\n",
    "        return n\n",
    "    return fib(n-1) + fib(n-2)\n"
   ]
  },
  {
   "cell_type": "code",
   "execution_count": 22,
   "id": "eacb6506",
   "metadata": {},
   "outputs": [
    {
     "name": "stdout",
     "output_type": "stream",
     "text": [
      "0\n",
      "1\n",
      "1\n",
      "2\n",
      "3\n",
      "5\n",
      "8\n",
      "13\n",
      "21\n",
      "34\n",
      "55\n",
      "89\n",
      "144\n"
     ]
    }
   ],
   "source": [
    "for i in range(13):\n",
    "    print(fib(i))"
   ]
  },
  {
   "cell_type": "code",
   "execution_count": null,
   "id": "c824f38f",
   "metadata": {},
   "outputs": [],
   "source": [
    "class HashTable:\n",
    "    def __init__(self, size):\n",
    "#         setting up size and our two lists: slots and data\n",
    "        self.size = size\n",
    "        self.slots = [None] * self.size #creates a list with 11 none types\n",
    "        self.data =[None] * self.size\n",
    "        \n",
    "    def put(self, key, data):\n",
    "        hashvalue = self.hashfunction(key, len(self.slots))\n",
    "        if self.slots[hashvalue] == None:\n",
    "            self.slots[hashvalue] == key\n",
    "            self.data[hashvalue] = data\n",
    "        else:\n",
    "            if self.slots[hashvalue] == key:\n",
    "                self.data[hashvalue] = data       \n",
    "            else:\n",
    "                nextslot = self.rehash(hashvalue, len(self.slot))\n",
    "                while(self.slots[nextslot] != None) and (self.slots [nextslot] != key):\n",
    "                    nextslot = self.rehash(nextslot, len(self.slots))\n",
    "                    if self.slots[nextslot] == None:\n",
    "                        self.slots[nextslot] = key\n",
    "                        self.data[nextslot] = data\n",
    "                    else:\n",
    "                        self.data[nextslot] = data\n",
    "                        \n",
    "    def hashfunction(self, key, size):\n",
    "        return key%size\n",
    "    \n",
    "    def rehash(self,oldhash, size):\n",
    "        return(oldhash+1)%size\n",
    "    \n",
    "    def get(self, key): \n",
    "        startslot = self.hashfunction[key, len(self.slots)] #calculate start slot\n",
    "        data = None        #helper variable\n",
    "        stop = False\n",
    "        found = False\n",
    "        position = startslot\n",
    "        \n",
    "        while self.slots[position] != None and not found and not stop: # condition 1: the value at\n",
    "            if self.slots[position] == key:               # position must be none.\n",
    "                found = True                              #condition 2: found == False\n",
    "                data = self.data[position]                #condtion 3: stop == False\n",
    "            else:\n",
    "                position = self.rehash(position, len(self.slots))\n",
    "                if position == startslot:\n",
    "                    stop = True\n",
    "        return data\n"
   ]
  }
 ],
 "metadata": {
  "kernelspec": {
   "display_name": "Python 3 (ipykernel)",
   "language": "python",
   "name": "python3"
  },
  "language_info": {
   "codemirror_mode": {
    "name": "ipython",
    "version": 3
   },
   "file_extension": ".py",
   "mimetype": "text/x-python",
   "name": "python",
   "nbconvert_exporter": "python",
   "pygments_lexer": "ipython3",
   "version": "3.8.10"
  }
 },
 "nbformat": 4,
 "nbformat_minor": 5
}
